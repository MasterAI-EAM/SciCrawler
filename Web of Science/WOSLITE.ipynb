{
 "cells": [
  {
   "cell_type": "code",
   "execution_count": 15,
   "id": "cc7bb4ea",
   "metadata": {},
   "outputs": [],
   "source": [
    "import woslite_client\n",
    "import json"
   ]
  },
  {
   "cell_type": "code",
   "execution_count": 16,
   "id": "2c3a40fc",
   "metadata": {},
   "outputs": [],
   "source": [
    "from __future__ import print_function\n",
    "import time\n",
    "import woslite_client\n",
    "from woslite_client.rest import ApiException\n",
    "from pprint import pprint\n",
    "\n",
    "\n",
    "# Configure API key authorization: key\n",
    "configuration = woslite_client.Configuration()\n",
    "configuration.api_key['X-ApiKey'] = '7263295125113a07f088770334f9f70748c1ac2a'"
   ]
  },
  {
   "cell_type": "code",
   "execution_count": 22,
   "id": "6480eff4",
   "metadata": {},
   "outputs": [],
   "source": [
    "#create an instance of the API class\n",
    "# Springer Nature\n",
    "# Royal Soc Chemistry\n",
    "# Elsevier\n",
    "# Article OR Review Article OR Proceeding Paper\n",
    "integration_api_instance = woslite_client.IntegrationApi(woslite_client.ApiClient(configuration))\n",
    "search_api_instance = woslite_client.SearchApi(woslite_client.ApiClient(configuration))\n",
    "database_id = 'WOS'  # str | Database to search. Must be a valid database ID, one of the following: BCI/BIOABS/BIOSIS/CCC/DCI/DIIDW/MEDLINE/WOK/WOS/ZOOREC. WOK represents all databases.\n",
    "usr_query = 'ALL=(copper paste OR Cu paste) AND PUBL=(Elsevier)'  # str | User query for requesting data, ex: TS=(cadmium). The query parser will return errors for invalid queries.\n",
    "count = 100 # int | Number of records returned in the request\n",
    "first_record = 1  # int | Specific record, if any within the result set to return. Cannot be less than 1 and greater than 100000.\n",
    "publish_time_span = '2000-01-01+2023-09-01'\n",
    "lang = 'en'  # str | Language of search. This element can take only one value: en for English. If no language is specified, English is passed by default. (optional)\n",
    "sort_field = 'PY+D'  # str | Order by field(s). Field name and order by clause separated by '+', use A for ASC and D for DESC, ex: PY+D. Multiple values are separated by comma. (optional)"
   ]
  },
  {
   "cell_type": "markdown",
   "id": "9be2c110",
   "metadata": {},
   "source": [
    "## only get doi"
   ]
  },
  {
   "cell_type": "code",
   "execution_count": 23,
   "id": "f4da5537",
   "metadata": {},
   "outputs": [],
   "source": [
    "def get_doi(response):\n",
    "    dl = []\n",
    "    for i in response.data:\n",
    "        doi = i.other.identifier_doi\n",
    "        x_doi = i.other.identifier_xref_doi\n",
    "        if doi != None:\n",
    "            dl.append(doi[0])\n",
    "        else:\n",
    "            if x_doi != None:\n",
    "                dl.append(x_doi[0])       \n",
    "    return dl"
   ]
  },
  {
   "cell_type": "code",
   "execution_count": 24,
   "id": "6b4cfd0c",
   "metadata": {},
   "outputs": [],
   "source": [
    "total_doi = []"
   ]
  },
  {
   "cell_type": "code",
   "execution_count": 25,
   "id": "eb3576bb",
   "metadata": {},
   "outputs": [
    {
     "name": "stderr",
     "output_type": "stream",
     "text": [
      "\r",
      "  0%|          | 0/12 [00:00<?, ?it/s]"
     ]
    },
    {
     "name": "stdout",
     "output_type": "stream",
     "text": [
      "1217\n"
     ]
    },
    {
     "name": "stderr",
     "output_type": "stream",
     "text": [
      "100%|██████████| 12/12 [00:05<00:00,  2.21it/s]\n"
     ]
    }
   ],
   "source": [
    "from tqdm import tqdm\n",
    "\n",
    "# 100000\n",
    "try:\n",
    "    api_response = search_api_instance.root_get(database_id, usr_query, count, first_record, lang=lang,\n",
    "                                                         sort_field=sort_field, publish_time_span=publish_time_span)\n",
    "    query_id = api_response.query_result.query_id\n",
    "    print(api_response.query_result.records_found)\n",
    "    if api_response.query_result.records_found < 100000:        \n",
    "        doi_100 = get_doi(api_response)\n",
    "        total_doi.extend(doi_100)\n",
    "        for i in tqdm(range(101, api_response.query_result.records_found, 100)):\n",
    "            api_response = search_api_instance.query_query_id_get(query_id, 100, i)\n",
    "            doi_post = get_doi(api_response)\n",
    "            total_doi.extend(doi_post)\n",
    "    else:\n",
    "        print(\"too large\")\n",
    "\n",
    "except ApiException as e:\n",
    "    print(\"Exception when calling SearchApi->root_get: {}\".format(e))"
   ]
  },
  {
   "cell_type": "code",
   "execution_count": 13,
   "id": "71ab7b87",
   "metadata": {},
   "outputs": [
    {
     "name": "stdout",
     "output_type": "stream",
     "text": [
      "367\n",
      "367\n"
     ]
    }
   ],
   "source": [
    "print(len(total_doi))\n",
    "tmp = list(set(total_doi))\n",
    "print(len(total_doi))"
   ]
  },
  {
   "cell_type": "code",
   "execution_count": 26,
   "id": "eb4f21cd",
   "metadata": {},
   "outputs": [],
   "source": [
    "json_str = json.dumps(total_doi, indent=4)\n",
    "with open('cp_elsevier_1217.json', 'w', encoding='utf-8') as json_file:\n",
    "    json_file.write(json_str)"
   ]
  },
  {
   "cell_type": "code",
   "execution_count": 59,
   "id": "d576d08f",
   "metadata": {},
   "outputs": [
    {
     "name": "stderr",
     "output_type": "stream",
     "text": [
      "100%|██████████| 4/4 [00:00<00:00, 102.06it/s]\n",
      "100%|██████████| 67957/67957 [04:02<00:00, 280.53it/s]\n",
      "100%|██████████| 80562/80562 [04:17<00:00, 313.43it/s]\n",
      "100%|██████████| 79532/79532 [03:49<00:00, 346.35it/s]\n",
      "100%|██████████| 68032/68032 [02:52<00:00, 393.65it/s]\n",
      "100%|██████████| 93406/93406 [03:21<00:00, 462.52it/s]\n",
      "100%|██████████| 19851/19851 [00:46<00:00, 431.46it/s]"
     ]
    },
    {
     "name": "stdout",
     "output_type": "stream",
     "text": [
      "236619\n"
     ]
    },
    {
     "name": "stderr",
     "output_type": "stream",
     "text": [
      "\n"
     ]
    }
   ],
   "source": [
    "import os\n",
    "from tqdm import tqdm\n",
    "\n",
    "ts_doi = []\n",
    "ts_em = os.listdir('D:/个人/scrawler/Energy_bert_v2/ts(energy&material)')\n",
    "for te in tqdm(ts_em):\n",
    "    if 'Elsevier' in te:\n",
    "        file = 'D:/个人/scrawler/Energy_bert_v2/ts(energy&material)/'+te\n",
    "        with open(file, 'r', encoding='utf-8') as f:\n",
    "            doi_list = json.load(f)\n",
    "            ts_doi.extend(doi_list)\n",
    "allnotts_doi = []\n",
    "all_em = os.listdir('D:/个人/scrawler/Energy_bert_v2/all(energy&material)')\n",
    "for a in all_em:\n",
    "    file = 'D:/个人/scrawler/Energy_bert_v2/all(energy&material)/'+a\n",
    "    with open(file, 'r', encoding='utf-8') as f:\n",
    "        doi_list = json.load(f)\n",
    "        for d in tqdm(doi_list):\n",
    "            if d not in ts_doi:\n",
    "                allnotts_doi.append(d)\n",
    "print(len(allnotts_doi))"
   ]
  },
  {
   "cell_type": "code",
   "execution_count": 60,
   "id": "a1d4809f",
   "metadata": {},
   "outputs": [],
   "source": [
    "json_str = json.dumps(allnotts_doi, indent=4)\n",
    "with open('D:/个人/scrawler/Energy_bert_v2/ALLNOTTS_Elsevier_236619.json', 'w', encoding='utf-8') as json_file:\n",
    "    json_file.write(json_str)"
   ]
  },
  {
   "cell_type": "markdown",
   "id": "6264e84a",
   "metadata": {},
   "source": [
    "## get doi with year"
   ]
  },
  {
   "cell_type": "code",
   "execution_count": 4,
   "id": "9523861a",
   "metadata": {},
   "outputs": [],
   "source": [
    "def get_doi_year(response):\n",
    "    dl = {}\n",
    "    for i in response.data:\n",
    "        doi = i.other.identifier_doi\n",
    "        x_doi = i.other.identifier_xref_doi\n",
    "        year = i.source.published_biblio_year\n",
    "        if year != None:\n",
    "            if doi != None:\n",
    "                dl[doi[0]]=year[0]\n",
    "            else:\n",
    "                if x_doi != None:\n",
    "                    dl[x_doi[0]]=year[0]           \n",
    "    return dl"
   ]
  },
  {
   "cell_type": "code",
   "execution_count": 30,
   "id": "91ab5567",
   "metadata": {},
   "outputs": [],
   "source": [
    "total_doi_year = {}"
   ]
  },
  {
   "cell_type": "code",
   "execution_count": 31,
   "id": "3b2e2524",
   "metadata": {},
   "outputs": [
    {
     "name": "stderr",
     "output_type": "stream",
     "text": [
      "\r",
      "  0%|          | 0/973 [00:00<?, ?it/s]"
     ]
    },
    {
     "name": "stdout",
     "output_type": "stream",
     "text": [
      "97303\n"
     ]
    },
    {
     "name": "stderr",
     "output_type": "stream",
     "text": [
      "100%|██████████| 973/973 [06:05<00:00,  2.66it/s]\n"
     ]
    }
   ],
   "source": [
    "from tqdm import tqdm\n",
    "\n",
    "\n",
    "try:\n",
    "    api_response = search_api_instance.root_get(database_id, usr_query, count, first_record, lang=lang,\n",
    "                                                         sort_field=sort_field, publish_time_span=publish_time_span)\n",
    "    query_id = api_response.query_result.query_id\n",
    "    print(api_response.query_result.records_found)\n",
    "    doi_100 = get_doi(api_response)\n",
    "    total_doi_year.update(doi_100)\n",
    "    for i in tqdm(range(101, api_response.query_result.records_found, 100)):\n",
    "        api_response = search_api_instance.query_query_id_get(query_id, 100, i)\n",
    "        doi_post = get_doi(api_response)\n",
    "        total_doi_year.update(doi_post)\n",
    "\n",
    "except ApiException as e:\n",
    "    print(\"Exception when calling SearchApi->root_get: {}\".format(e))"
   ]
  },
  {
   "cell_type": "code",
   "execution_count": 32,
   "id": "cdb9fd31",
   "metadata": {},
   "outputs": [
    {
     "name": "stdout",
     "output_type": "stream",
     "text": [
      "77363\n"
     ]
    }
   ],
   "source": [
    "print(len(total_doi_year))"
   ]
  },
  {
   "cell_type": "code",
   "execution_count": 18,
   "id": "f93a15be",
   "metadata": {},
   "outputs": [],
   "source": [
    "json_str = json.dumps(total_doi_year, indent=4)\n",
    "with open('total_doi_year.json', 'w', encoding='utf-8') as json_file:\n",
    "    json_file.write(json_str)"
   ]
  },
  {
   "cell_type": "markdown",
   "id": "fe8a3b58",
   "metadata": {},
   "source": [
    "## get info of doi"
   ]
  },
  {
   "cell_type": "code",
   "execution_count": 12,
   "id": "0d71c2a4",
   "metadata": {},
   "outputs": [],
   "source": [
    "from __future__ import print_function\n",
    "import time\n",
    "import woslite_client\n",
    "from woslite_client.rest import ApiException\n",
    "from pprint import pprint\n",
    "\n",
    "\n",
    "def doi_keywords(doi):\n",
    "    # Configure API key authorization: key\n",
    "    configuration = woslite_client.Configuration()\n",
    "    configuration.api_key['X-ApiKey'] = '7263295125113a07f088770334f9f70748c1ac2a'\n",
    "    api_instance = woslite_client.SearchApi(woslite_client.ApiClient(configuration))\n",
    "    database_id = 'WOS' # str | Database to search. Must be a valid database ID, one of the following: BCI/BIOABS/BIOSIS/CCC/DCI/DIIDW/MEDLINE/WOK/WOS/ZOOREC. WOK represents all databases.\n",
    "    usr_query = 'DO=('+doi+')'# str | User query for requesting data, ex: TS=(cadmium). The query parser will return errors for invalid queries.\n",
    "    count = 1 # int | Number of records to return, must be 0-100.\n",
    "    first_record = 1 # int | Specific record, if any within the result set to return. Cannot be less than 1 and greater than 100000.\n",
    "    \n",
    "    try:\n",
    "        api_response = api_instance.root_get(database_id, usr_query,count, first_record)\n",
    "        # print(api_response.data[0].doctype.doctype[0])\n",
    "        # return api_response.data[0].source.source_title[0]\n",
    "        # print(api_response.data[0])\n",
    "        return api_response.data[0].keyword.keywords\n",
    "    except:\n",
    "        return 'y'   "
   ]
  },
  {
   "cell_type": "code",
   "execution_count": 9,
   "id": "11ff4f16",
   "metadata": {},
   "outputs": [
    {
     "data": {
      "text/plain": [
       "['Natural deep eutectic solvents',\n",
       " 'Ionic liquids',\n",
       " 'Physicochemical properties',\n",
       " 'Green technology',\n",
       " 'Solubility']"
      ]
     },
     "execution_count": 9,
     "metadata": {},
     "output_type": "execute_result"
    }
   ],
   "source": [
    "doi_keywords('10.1016/j.aca.2012.12.019')"
   ]
  },
  {
   "cell_type": "code",
   "execution_count": 13,
   "id": "4243d363",
   "metadata": {},
   "outputs": [
    {
     "name": "stderr",
     "output_type": "stream",
     "text": [
      "100%|██████████| 993/993 [17:55<00:00,  1.08s/it]\n"
     ]
    }
   ],
   "source": [
    "import json\n",
    "from tqdm import tqdm\n",
    "\n",
    "doi_key = {}\n",
    "with open('1000.json', 'r', encoding='utf-8') as f:\n",
    "    dois = json.load(f)\n",
    "for d in tqdm(dois):\n",
    "    doi_key[d] = doi_keywords(d)"
   ]
  },
  {
   "cell_type": "code",
   "execution_count": 14,
   "id": "73ecba01",
   "metadata": {},
   "outputs": [],
   "source": [
    "json_str = json.dumps(doi_key, indent=4)\n",
    "with open('doi_key.json', 'w', encoding='utf-8') as json_file:\n",
    "    json_file.write(json_str)"
   ]
  },
  {
   "cell_type": "code",
   "execution_count": null,
   "id": "78aab26a",
   "metadata": {},
   "outputs": [],
   "source": []
  }
 ],
 "metadata": {
  "kernelspec": {
   "display_name": "Python 3",
   "language": "python",
   "name": "python3"
  },
  "language_info": {
   "codemirror_mode": {
    "name": "ipython",
    "version": 3
   },
   "file_extension": ".py",
   "mimetype": "text/x-python",
   "name": "python",
   "nbconvert_exporter": "python",
   "pygments_lexer": "ipython3",
   "version": "3.6.13"
  }
 },
 "nbformat": 4,
 "nbformat_minor": 5
}